{
  "nbformat": 4,
  "nbformat_minor": 0,
  "metadata": {
    "colab": {
      "provenance": [],
      "authorship_tag": "ABX9TyMRqVbI0Tm/MO78/2WN56BC",
      "include_colab_link": true
    },
    "kernelspec": {
      "name": "python3",
      "display_name": "Python 3"
    },
    "language_info": {
      "name": "python"
    }
  },
  "cells": [
    {
      "cell_type": "markdown",
      "metadata": {
        "id": "view-in-github",
        "colab_type": "text"
      },
      "source": [
        "<a href=\"https://colab.research.google.com/github/NavaneethRaj17/AI_Research_Agent/blob/Init/AI_Research_Agent.ipynb\" target=\"_parent\"><img src=\"https://colab.research.google.com/assets/colab-badge.svg\" alt=\"Open In Colab\"/></a>"
      ]
    },
    {
      "cell_type": "code",
      "execution_count": 1,
      "metadata": {
        "id": "FCtDrLbRcd1z"
      },
      "outputs": [],
      "source": [
        "#!pip install streamlit  ## to build web app\n",
        "#!pip install openai  ## to use GPT-4o-mini\n",
        "#!pip install mem0ai  ## to access Arxiv(Internet of Agent)\n",
        "#!pip install multion  ## Personalized memory layer"
      ]
    },
    {
      "cell_type": "code",
      "source": [
        "import streamlit as st\n",
        "import os\n",
        "from mem0 import Memory\n",
        "from multion.client import MultiOn\n",
        "from openai import OpenAI"
      ],
      "metadata": {
        "id": "uFTe1OYgdktk"
      },
      "execution_count": 2,
      "outputs": []
    },
    {
      "cell_type": "code",
      "source": [
        "# Setting up Streamlit app\n",
        "st.title(\"AI Research Agent with Memory\")\n",
        "api_keys = {k: st.text_input(f\"{k.capitalize()} API Key\", type=\"password\") for k in ['openai','multion']} #description for the app"
      ],
      "metadata": {
        "colab": {
          "base_uri": "https://localhost:8080/"
        },
        "id": "q1Fc0Q84ediq",
        "outputId": "410f3610-f69b-4a4d-df9b-ae724713139a"
      },
      "execution_count": 3,
      "outputs": [
        {
          "output_type": "stream",
          "name": "stderr",
          "text": [
            "2024-09-25 08:31:20.442 WARNING streamlit.runtime.scriptrunner_utils.script_run_context: Thread 'MainThread': missing ScriptRunContext! This warning can be ignored when running in bare mode.\n",
            "2024-09-25 08:31:20.715 \n",
            "  \u001b[33m\u001b[1mWarning:\u001b[0m to view this Streamlit app on a browser, run it with the following\n",
            "  command:\n",
            "\n",
            "    streamlit run /usr/local/lib/python3.10/dist-packages/colab_kernel_launcher.py [ARGUMENTS]\n",
            "2024-09-25 08:31:20.717 Thread 'MainThread': missing ScriptRunContext! This warning can be ignored when running in bare mode.\n",
            "2024-09-25 08:31:20.721 Thread 'MainThread': missing ScriptRunContext! This warning can be ignored when running in bare mode.\n",
            "2024-09-25 08:31:20.723 Thread 'MainThread': missing ScriptRunContext! This warning can be ignored when running in bare mode.\n",
            "2024-09-25 08:31:20.725 Thread 'MainThread': missing ScriptRunContext! This warning can be ignored when running in bare mode.\n",
            "2024-09-25 08:31:20.726 Session state does not function when running a script without `streamlit run`\n",
            "2024-09-25 08:31:20.728 Thread 'MainThread': missing ScriptRunContext! This warning can be ignored when running in bare mode.\n",
            "2024-09-25 08:31:20.733 Thread 'MainThread': missing ScriptRunContext! This warning can be ignored when running in bare mode.\n",
            "2024-09-25 08:31:20.734 Thread 'MainThread': missing ScriptRunContext! This warning can be ignored when running in bare mode.\n",
            "2024-09-25 08:31:20.741 Thread 'MainThread': missing ScriptRunContext! This warning can be ignored when running in bare mode.\n",
            "2024-09-25 08:31:20.747 Thread 'MainThread': missing ScriptRunContext! This warning can be ignored when running in bare mode.\n",
            "2024-09-25 08:31:20.752 Thread 'MainThread': missing ScriptRunContext! This warning can be ignored when running in bare mode.\n",
            "2024-09-25 08:31:20.758 Thread 'MainThread': missing ScriptRunContext! This warning can be ignored when running in bare mode.\n"
          ]
        }
      ]
    },
    {
      "cell_type": "code",
      "source": [
        "# Initialize services if API keys are provided\n",
        "if all(api_keys.values()):      #Configures Mem0 with Qdrant as the vector store\n",
        "  os.environ['OPENAI_API_KEY'] = api_keys['openai']\n",
        "  config = {\n",
        "      \"vector_store\":{\n",
        "          \"provider\":\"qdrant\",\n",
        "          \"config\":{\n",
        "              \"model\":\"gpt-4o-mini\",\n",
        "              \"host\":\"localhost\",\n",
        "              \"port\":6333,\n",
        "              \"collection_name\":\"arxiv\"\n",
        "\n",
        "          }\n",
        "      }\n",
        "  }\n",
        "  memory= Memory.from_config(config)  #initialize MultiOn and OpenAI clients\n",
        "  multion= Multion(api_key=api_keys['multion'])\n",
        "  openai_client = OpenAI(api_key=api_keys['openai'])"
      ],
      "metadata": {
        "id": "SUJuJck9fmGd"
      },
      "execution_count": 4,
      "outputs": []
    },
    {
      "cell_type": "code",
      "source": [
        "# Create user input and search query fields\n",
        "user_id= st.sidebar.text_input(\"Enter your username\") #adds a sidebar for user identification\n",
        "search_query= st.text_input(\"Research paper search query\") #input field for research paper search query"
      ],
      "metadata": {
        "colab": {
          "base_uri": "https://localhost:8080/"
        },
        "id": "CHBWxvEFgwwA",
        "outputId": "16d1b5a5-8851-4a3e-a759-587611fdd673"
      },
      "execution_count": 5,
      "outputs": [
        {
          "output_type": "stream",
          "name": "stderr",
          "text": [
            "2024-09-25 08:31:20.786 Thread 'MainThread': missing ScriptRunContext! This warning can be ignored when running in bare mode.\n",
            "2024-09-25 08:31:20.788 Thread 'MainThread': missing ScriptRunContext! This warning can be ignored when running in bare mode.\n",
            "2024-09-25 08:31:20.792 Thread 'MainThread': missing ScriptRunContext! This warning can be ignored when running in bare mode.\n",
            "2024-09-25 08:31:20.795 Thread 'MainThread': missing ScriptRunContext! This warning can be ignored when running in bare mode.\n",
            "2024-09-25 08:31:20.797 Thread 'MainThread': missing ScriptRunContext! This warning can be ignored when running in bare mode.\n",
            "2024-09-25 08:31:20.799 Thread 'MainThread': missing ScriptRunContext! This warning can be ignored when running in bare mode.\n",
            "2024-09-25 08:31:20.803 Thread 'MainThread': missing ScriptRunContext! This warning can be ignored when running in bare mode.\n",
            "2024-09-25 08:31:20.805 Thread 'MainThread': missing ScriptRunContext! This warning can be ignored when running in bare mode.\n",
            "2024-09-25 08:31:20.806 Thread 'MainThread': missing ScriptRunContext! This warning can be ignored when running in bare mode.\n",
            "2024-09-25 08:31:20.809 Thread 'MainThread': missing ScriptRunContext! This warning can be ignored when running in bare mode.\n"
          ]
        }
      ]
    },
    {
      "cell_type": "code",
      "source": [
        "# Function to process search results with GPT-4o_mini\n",
        "def process_with_gpt4(result):\n",
        "  prompt = f\"\"\"\n",
        "  Based on the following arXiv search result, provide a proper structured output in markdown that is readable by the users.\n",
        "  Each paper should have a title,authors,abstract and link.\n",
        "  Search Result: {result}\n",
        "  output Format: Table with the following columns: [{{\"title\":\"Paper Title\",\"authors\":\"Author Names\",\"abstract\":\"Brief abstract\",\"link\":\"arXiv link\"}}, ...]\n",
        "  \"\"\"\n",
        "  response= openai_client.chat.completions.create(model=\"gpt-4o-mini\",messages=[{\"role\":\"user\",\"content\":prompt}],temperature=0.2)\n",
        "  return response.choices[0].message.content"
      ],
      "metadata": {
        "id": "rrXylCXzhk2Q"
      },
      "execution_count": 6,
      "outputs": []
    },
    {
      "cell_type": "code",
      "source": [
        "# Implement the paper search functionality\n",
        "if st.button('Search for Papers'):\n",
        "  with st.spinner(\"Searching and Processing...\"):\n",
        "    relevant_memories = memory.search(search_query,user_id=user_id,limit=3)\n",
        "    prompt = f\"Search for arXiv papers: {search_query}\\n User background: {' '.join(mem['text'] for mem in relevant_memories)}\"\n",
        "    result= process_with_gpt4(multion.browse(cmd=prompt,url=\"https://arxiv.org/\"))\n",
        "    st.markdown(result)\n"
      ],
      "metadata": {
        "colab": {
          "base_uri": "https://localhost:8080/"
        },
        "id": "u0GSzRmykjgs",
        "outputId": "2ce436ac-60c1-488b-843f-a95eb7a90da1"
      },
      "execution_count": 7,
      "outputs": [
        {
          "output_type": "stream",
          "name": "stderr",
          "text": [
            "2024-09-25 08:31:20.841 Thread 'MainThread': missing ScriptRunContext! This warning can be ignored when running in bare mode.\n",
            "2024-09-25 08:31:20.845 Thread 'MainThread': missing ScriptRunContext! This warning can be ignored when running in bare mode.\n",
            "2024-09-25 08:31:20.847 Thread 'MainThread': missing ScriptRunContext! This warning can be ignored when running in bare mode.\n",
            "2024-09-25 08:31:20.848 Thread 'MainThread': missing ScriptRunContext! This warning can be ignored when running in bare mode.\n"
          ]
        }
      ]
    },
    {
      "cell_type": "code",
      "source": [
        "# Adding a memory viewing feature\n",
        "if st.sidebar.button(\"View Memory\"):\n",
        "    st.sidebar.write(\"\\n\".join([f\"- {mem['text']}\" for mem in memory.get_all(user_id= user_id)]))"
      ],
      "metadata": {
        "colab": {
          "base_uri": "https://localhost:8080/"
        },
        "id": "hyzYIOWao1mX",
        "outputId": "84cbe9e7-775f-4da8-dadf-aa4edb124612"
      },
      "execution_count": 8,
      "outputs": [
        {
          "output_type": "stream",
          "name": "stderr",
          "text": [
            "2024-09-25 08:31:20.865 Thread 'MainThread': missing ScriptRunContext! This warning can be ignored when running in bare mode.\n",
            "2024-09-25 08:31:20.868 Thread 'MainThread': missing ScriptRunContext! This warning can be ignored when running in bare mode.\n",
            "2024-09-25 08:31:20.870 Thread 'MainThread': missing ScriptRunContext! This warning can be ignored when running in bare mode.\n",
            "2024-09-25 08:31:20.872 Thread 'MainThread': missing ScriptRunContext! This warning can be ignored when running in bare mode.\n"
          ]
        }
      ]
    },
    {
      "cell_type": "code",
      "source": [],
      "metadata": {
        "id": "7XVrphSYpy0V"
      },
      "execution_count": null,
      "outputs": []
    },
    {
      "cell_type": "code",
      "source": [],
      "metadata": {
        "id": "p8Al0fpUUU-w"
      },
      "execution_count": null,
      "outputs": []
    }
  ]
}